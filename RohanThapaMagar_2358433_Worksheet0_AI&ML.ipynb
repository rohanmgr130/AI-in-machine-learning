{
  "nbformat": 4,
  "nbformat_minor": 0,
  "metadata": {
    "colab": {
      "provenance": []
    },
    "kernelspec": {
      "name": "python3",
      "display_name": "Python 3"
    },
    "language_info": {
      "name": "python"
    }
  },
  "cells": [
    {
      "cell_type": "markdown",
      "source": [
        "# Exercise on Functions:"
      ],
      "metadata": {
        "id": "s1VYp5otzy4i"
      }
    },
    {
      "cell_type": "markdown",
      "source": [
        "# Task-1 Unit Conversion"
      ],
      "metadata": {
        "id": "8-CTWL4rzpP0"
      }
    },
    {
      "cell_type": "code",
      "execution_count": 1,
      "metadata": {
        "colab": {
          "base_uri": "https://localhost:8080/"
        },
        "id": "_Wc3B-ppzalq",
        "outputId": "063ed2d7-0651-4af9-dc51-e6445851b846"
      },
      "outputs": [
        {
          "output_type": "stream",
          "name": "stdout",
          "text": [
            "Welcome to the Unit Converter!\n",
            "Available conversions:\n",
            "1. Length: meters to feet, feet to meters\n",
            "2. Weight: kilograms to pounds, pounds to kilograms\n",
            "3. Volume: liters to gallons, gallons to liters\n",
            "Choose the type of conversion (1, 2, or 3): 1\n",
            "Enter the value to be converted: 3\n",
            "Choose conversion (m_to_ft or ft_to_m): ft_to_m\n",
            "Converted value: 0.914399970739201\n"
          ]
        }
      ],
      "source": [
        "def convert_length(value, unit):\n",
        "    if unit == 'm_to_ft':\n",
        "        return value * 3.28084\n",
        "    elif unit == 'ft_to_m':\n",
        "        return value / 3.28084\n",
        "    else:\n",
        "        raise ValueError(\"Invalid unit for length conversion.\")\n",
        "\n",
        "def convert_weight(value, unit):\n",
        "    if unit == 'kg_to_lbs':\n",
        "        return value * 2.20462\n",
        "    elif unit == 'lbs_to_kg':\n",
        "        return value / 2.20462\n",
        "    else:\n",
        "        raise ValueError(\"Invalid unit for weight conversion.\")\n",
        "\n",
        "def convert_volume(value, unit):\n",
        "    if unit == 'L_to_gal':\n",
        "        return value * 0.264172\n",
        "    elif unit == 'gal_to_L':\n",
        "        return value / 0.264172\n",
        "    else:\n",
        "        raise ValueError(\"Invalid unit for volume conversion.\")\n",
        "\n",
        "def main():\n",
        "    print(\"Welcome to the Unit Converter!\")\n",
        "    print(\"Available conversions:\")\n",
        "    print(\"1. Length: meters to feet, feet to meters\")\n",
        "    print(\"2. Weight: kilograms to pounds, pounds to kilograms\")\n",
        "    print(\"3. Volume: liters to gallons, gallons to liters\")\n",
        "\n",
        "    try:\n",
        "        conversion_type = int(input(\"Choose the type of conversion (1, 2, or 3): \"))\n",
        "        value = float(input(\"Enter the value to be converted: \"))\n",
        "\n",
        "        if conversion_type == 1:\n",
        "            unit = input(\"Choose conversion (m_to_ft or ft_to_m): \")\n",
        "            result = convert_length(value, unit)\n",
        "            print(f\"Converted value: {result}\")\n",
        "        elif conversion_type == 2:\n",
        "            unit = input(\"Choose conversion (kg_to_lbs or lbs_to_kg): \")\n",
        "            result = convert_weight(value, unit)\n",
        "            print(f\"Converted value: {result}\")\n",
        "        elif conversion_type == 3:\n",
        "            unit = input(\"Choose conversion (L_to_gal or gal_to_L): \")\n",
        "            result = convert_volume(value, unit)\n",
        "            print(f\"Converted value: {result}\")\n",
        "        else:\n",
        "            print(\"Invalid conversion type selected.\")\n",
        "    except ValueError as e:\n",
        "        print(f\"Error: {e}\")\n",
        "\n",
        "main()"
      ]
    },
    {
      "cell_type": "markdown",
      "source": [
        "# Task-2 Math Operation on List of Numbers"
      ],
      "metadata": {
        "id": "rVa5pztD0Y2e"
      }
    },
    {
      "cell_type": "code",
      "source": [
        "def calculate_sum(numbers):\n",
        "    \"\"\"\n",
        "    Calculates the sum of a list of numbers.\n",
        "\n",
        "    Parameters:\n",
        "    numbers (list): A list of numbers.\n",
        "\n",
        "    Returns:\n",
        "    float: The sum of the numbers.\n",
        "    \"\"\"\n",
        "    return sum(numbers)\n",
        "\n",
        "def calculate_average(numbers):\n",
        "    \"\"\"\n",
        "    Calculates the average of a list of numbers.\n",
        "\n",
        "    Parameters:\n",
        "    numbers (list): A list of numbers.\n",
        "\n",
        "    Returns:\n",
        "    float: The average of the numbers.\n",
        "    \"\"\"\n",
        "    return sum(numbers) / len(numbers)\n",
        "\n",
        "def find_maximum(numbers):\n",
        "    \"\"\"\n",
        "    Finds the maximum value in a list of numbers.\n",
        "\n",
        "    Parameters:\n",
        "    numbers (list): A list of numbers.\n",
        "\n",
        "    Returns:\n",
        "    float: The maximum value.\n",
        "    \"\"\"\n",
        "    return max(numbers)\n",
        "\n",
        "def find_minimum(numbers):\n",
        "    \"\"\"\n",
        "    Finds the minimum value in a list of numbers.\n",
        "\n",
        "    Parameters:\n",
        "    numbers (list): A list of numbers.\n",
        "\n",
        "    Returns:\n",
        "    float: The minimum value.\n",
        "    \"\"\"\n",
        "    return min(numbers)\n",
        "\n",
        "def main():\n",
        "    print(\"Welcome to the Mathematical Operations Program!\")\n",
        "    print(\"Available operations:\")\n",
        "    print(\"1. Sum\")\n",
        "    print(\"2. Average\")\n",
        "    print(\"3. Maximum\")\n",
        "    print(\"4. Minimum\")\n",
        "\n",
        "    try:\n",
        "        operation = int(input(\"Choose the operation (1, 2, 3, or 4): \"))\n",
        "        numbers = list(map(float, input(\"Enter a list of numbers separated by spaces: \").split()))\n",
        "\n",
        "        if operation == 1:\n",
        "            result = calculate_sum(numbers)\n",
        "            print(f\"Sum: {result}\")\n",
        "        elif operation == 2:\n",
        "            result = calculate_average(numbers)\n",
        "            print(f\"Average: {result}\")\n",
        "        elif operation == 3:\n",
        "            result = find_maximum(numbers)\n",
        "            print(f\"Maximum: {result}\")\n",
        "        elif operation == 4:\n",
        "            result = find_minimum(numbers)\n",
        "            print(f\"Minimum: {result}\")\n",
        "        else:\n",
        "            print(\"Invalid operation selected.\")\n",
        "    except ValueError as e:\n",
        "        print(f\"Error: {e}\")\n",
        "    except ZeroDivisionError:\n",
        "        print(\"Error: Cannot calculate average of an empty list.\")\n",
        "\n",
        "main()"
      ],
      "metadata": {
        "colab": {
          "base_uri": "https://localhost:8080/"
        },
        "id": "rB4V4IEo0FhL",
        "outputId": "d8ebf58d-0b28-4145-f09d-a685b198052e"
      },
      "execution_count": 2,
      "outputs": [
        {
          "output_type": "stream",
          "name": "stdout",
          "text": [
            "Welcome to the Mathematical Operations Program!\n",
            "Available operations:\n",
            "1. Sum\n",
            "2. Average\n",
            "3. Maximum\n",
            "4. Minimum\n",
            "Choose the operation (1, 2, 3, or 4): 4\n",
            "Enter a list of numbers separated by spaces: 2\n",
            "Minimum: 2.0\n"
          ]
        }
      ]
    },
    {
      "cell_type": "markdown",
      "source": [
        "# Exercise on List Manipulation:"
      ],
      "metadata": {
        "id": "7uYcjGpB0_rE"
      }
    },
    {
      "cell_type": "code",
      "source": [
        "def extract_every_other(lst):\n",
        "    \"\"\"\n",
        "    Extracts every other element from a list, starting from the first element.\n",
        "\n",
        "    Parameters:\n",
        "    lst (list): The input list.\n",
        "\n",
        "    Returns:\n",
        "    list: A new list containing every other element.\n",
        "    \"\"\"\n",
        "    return lst[::2]\n",
        "\n",
        "extract_every_other([1, 2, 3, 4, 5, 6], )"
      ],
      "metadata": {
        "colab": {
          "base_uri": "https://localhost:8080/"
        },
        "id": "8ui-kMre0w3H",
        "outputId": "f6ba7295-34cf-453b-a3c7-61805d6108e1"
      },
      "execution_count": 3,
      "outputs": [
        {
          "output_type": "execute_result",
          "data": {
            "text/plain": [
              "[1, 3, 5]"
            ]
          },
          "metadata": {},
          "execution_count": 3
        }
      ]
    },
    {
      "cell_type": "code",
      "source": [
        "def get_sublist(lst, start, end):\n",
        "    \"\"\"\n",
        "    Returns a sublist from a given list, starting from a specified index and ending at another specified index.\n",
        "\n",
        "    Parameters:\n",
        "    lst (list): The input list.\n",
        "    start (int): The starting index.\n",
        "    end (int): The ending index.\n",
        "\n",
        "    Returns:\n",
        "    list: The sublist from start to end (inclusive).\n",
        "    \"\"\"\n",
        "    return lst[start:end+1]\n",
        "\n",
        "get_sublist([1, 2, 3, 4, 5, 6],2,4)"
      ],
      "metadata": {
        "colab": {
          "base_uri": "https://localhost:8080/"
        },
        "id": "Z2uRdVIQ2JDt",
        "outputId": "84cf6f7d-88d6-4f81-9b6a-aea7dfa3f966"
      },
      "execution_count": 4,
      "outputs": [
        {
          "output_type": "execute_result",
          "data": {
            "text/plain": [
              "[3, 4, 5]"
            ]
          },
          "metadata": {},
          "execution_count": 4
        }
      ]
    },
    {
      "cell_type": "code",
      "source": [
        "def reverse_list(lst):\n",
        "    \"\"\"\n",
        "    Reverses a list using slicing.\n",
        "\n",
        "    Parameters:\n",
        "    lst (list): The input list.\n",
        "\n",
        "    Returns:\n",
        "    list: The reversed list.\n",
        "    \"\"\"\n",
        "    return lst[::-1]\n",
        "\n",
        "reverse_list([1, 2, 3, 4, 5])"
      ],
      "metadata": {
        "colab": {
          "base_uri": "https://localhost:8080/"
        },
        "id": "QiySrYeF2Ut7",
        "outputId": "cfae1715-2745-48ca-ae41-7c3287c084f7"
      },
      "execution_count": 5,
      "outputs": [
        {
          "output_type": "execute_result",
          "data": {
            "text/plain": [
              "[5, 4, 3, 2, 1]"
            ]
          },
          "metadata": {},
          "execution_count": 5
        }
      ]
    },
    {
      "cell_type": "code",
      "source": [
        "def remove_first_last(lst):\n",
        "    \"\"\"\n",
        "    Removes the first and last elements of a list and returns the resulting sublist.\n",
        "\n",
        "    Parameters:\n",
        "    lst (list): The input list.\n",
        "\n",
        "    Returns:\n",
        "    list: The sublist without the first and last elements.\n",
        "    \"\"\"\n",
        "    return lst[1:-1]\n",
        "\n",
        "remove_first_last([1, 2, 3, 4, 5])"
      ],
      "metadata": {
        "colab": {
          "base_uri": "https://localhost:8080/"
        },
        "id": "9zxHVjqa2YDp",
        "outputId": "8f3898f1-43b5-473a-e5fa-81b4cb7669ea"
      },
      "execution_count": 6,
      "outputs": [
        {
          "output_type": "execute_result",
          "data": {
            "text/plain": [
              "[2, 3, 4]"
            ]
          },
          "metadata": {},
          "execution_count": 6
        }
      ]
    },
    {
      "cell_type": "code",
      "source": [
        "def get_first_n(lst, n):\n",
        "    \"\"\"\n",
        "    Extracts the first n elements from a list.\n",
        "\n",
        "    Parameters:\n",
        "    lst (list): The input list.\n",
        "    n (int): The number of elements to extract.\n",
        "\n",
        "    Returns:\n",
        "    list: The first n elements of the list.\n",
        "    \"\"\"\n",
        "    return lst[:n]\n",
        "\n",
        "get_first_n([1, 2, 3, 4, 5],3)"
      ],
      "metadata": {
        "colab": {
          "base_uri": "https://localhost:8080/"
        },
        "id": "tddLLYqz2cac",
        "outputId": "d4841f99-ecbd-4fd6-eed4-a327801a2766"
      },
      "execution_count": 7,
      "outputs": [
        {
          "output_type": "execute_result",
          "data": {
            "text/plain": [
              "[1, 2, 3]"
            ]
          },
          "metadata": {},
          "execution_count": 7
        }
      ]
    },
    {
      "cell_type": "code",
      "source": [
        "def get_last_n(lst, n):\n",
        "    \"\"\"\n",
        "    Extracts the last n elements of a list using slicing.\n",
        "\n",
        "    Parameters:\n",
        "    lst (list): The input list.\n",
        "    n (int): The number of elements to extract.\n",
        "\n",
        "    Returns:\n",
        "    list: The last n elements of the list.\n",
        "    \"\"\"\n",
        "    return lst[-n:]\n",
        "\n",
        "get_last_n([1, 2, 3, 4, 5],2)"
      ],
      "metadata": {
        "colab": {
          "base_uri": "https://localhost:8080/"
        },
        "id": "9N2hNWsT2ft1",
        "outputId": "dacd7190-ec52-4610-b372-2246b58591ae"
      },
      "execution_count": 8,
      "outputs": [
        {
          "output_type": "execute_result",
          "data": {
            "text/plain": [
              "[4, 5]"
            ]
          },
          "metadata": {},
          "execution_count": 8
        }
      ]
    },
    {
      "cell_type": "code",
      "source": [
        "def reverse_skip(lst):\n",
        "    \"\"\"\n",
        "    Extracts a list of elements in reverse order starting from the second-to-last element and skipping one element in between.\n",
        "\n",
        "    Parameters:\n",
        "    lst (list): The input list.\n",
        "\n",
        "    Returns:\n",
        "    list: A new list containing every second element starting from the second-to-last, moving backward.\n",
        "    \"\"\"\n",
        "    return lst[-2::-2]\n",
        "\n",
        "reverse_skip([1, 2, 3, 4, 5, 6])"
      ],
      "metadata": {
        "colab": {
          "base_uri": "https://localhost:8080/"
        },
        "id": "GmeQtSq12jSe",
        "outputId": "cb42e532-b749-4ca8-b62b-30610e31ce8d"
      },
      "execution_count": 9,
      "outputs": [
        {
          "output_type": "execute_result",
          "data": {
            "text/plain": [
              "[5, 3, 1]"
            ]
          },
          "metadata": {},
          "execution_count": 9
        }
      ]
    },
    {
      "cell_type": "markdown",
      "source": [
        "# Exercise on Nested List"
      ],
      "metadata": {
        "id": "GROi91612nHW"
      }
    },
    {
      "cell_type": "code",
      "source": [
        "def flatten(lst):\n",
        "    \"\"\"\n",
        "    Flattens a nested list into a single list.\n",
        "\n",
        "    Parameters:\n",
        "    lst (list): The nested list.\n",
        "\n",
        "    Returns:\n",
        "    list: A flattened version of the list.\n",
        "    \"\"\"\n",
        "    flat_list = []\n",
        "    for item in lst:\n",
        "        if isinstance(item, list):\n",
        "            flat_list.extend(flatten(item))\n",
        "        else:\n",
        "            flat_list.append(item)\n",
        "    return flat_list\n",
        "\n",
        "flatten([[1, 2], [3, [4, 5]], 6])"
      ],
      "metadata": {
        "colab": {
          "base_uri": "https://localhost:8080/"
        },
        "id": "eqvXZ28E3t1H",
        "outputId": "94f93f51-fbe3-4ffb-f4f0-ec1530cc908b"
      },
      "execution_count": 10,
      "outputs": [
        {
          "output_type": "execute_result",
          "data": {
            "text/plain": [
              "[1, 2, 3, 4, 5, 6]"
            ]
          },
          "metadata": {},
          "execution_count": 10
        }
      ]
    },
    {
      "cell_type": "code",
      "source": [
        "def access_nested_element(lst, indices):\n",
        "    \"\"\"\n",
        "    Extracts a specific element from a nested list given its indices.\n",
        "\n",
        "    Parameters:\n",
        "    lst (list): The nested list.\n",
        "    indices (list): A list of indices.\n",
        "\n",
        "    Returns:\n",
        "    any: The element at the specified position.\n",
        "    \"\"\"\n",
        "    for index in indices:\n",
        "        lst = lst[index]\n",
        "    return lst\n",
        "access_nested_element([[1, 2, 3], [4, 5, 6], [7, 8, 9]],[1,2])"
      ],
      "metadata": {
        "colab": {
          "base_uri": "https://localhost:8080/"
        },
        "id": "oga0Z3Oy2v3D",
        "outputId": "c5fe2888-a95c-437e-de14-879bb82054c1"
      },
      "execution_count": 11,
      "outputs": [
        {
          "output_type": "execute_result",
          "data": {
            "text/plain": [
              "6"
            ]
          },
          "metadata": {},
          "execution_count": 11
        }
      ]
    },
    {
      "cell_type": "code",
      "source": [
        "def sum_nested(lst):\n",
        "    \"\"\"\n",
        "    Calculates the sum of all the numbers in a nested list.\n",
        "\n",
        "    Parameters:\n",
        "    lst (list): The nested list.\n",
        "\n",
        "    Returns:\n",
        "    float: The sum of all elements.\n",
        "    \"\"\"\n",
        "    return sum(flatten(lst))\n",
        "\n",
        "sum_nested([[1, 2], [3, [4, 5]], 6])"
      ],
      "metadata": {
        "colab": {
          "base_uri": "https://localhost:8080/"
        },
        "id": "Jxb-978w2wap",
        "outputId": "f9b6fe79-9b67-4d93-a275-2f1d1e96e708"
      },
      "execution_count": 12,
      "outputs": [
        {
          "output_type": "execute_result",
          "data": {
            "text/plain": [
              "21"
            ]
          },
          "metadata": {},
          "execution_count": 12
        }
      ]
    },
    {
      "cell_type": "code",
      "source": [
        "def remove_element(lst, elem):\n",
        "    \"\"\"\n",
        "    Removes all occurrences of a specific element from a nested list.\n",
        "\n",
        "    Parameters:\n",
        "    lst (list): The nested list.\n",
        "    elem (any): The element to remove.\n",
        "\n",
        "    Returns:\n",
        "    list: The modified list.\n",
        "    \"\"\"\n",
        "    return [remove_element(item, elem) if isinstance(item, list) else item for item in lst if item != elem]\n",
        "\n",
        "remove_element([[1, 2], [3, 2], [4, 5]],2)"
      ],
      "metadata": {
        "colab": {
          "base_uri": "https://localhost:8080/"
        },
        "id": "sGxcAov23iN5",
        "outputId": "4b605e45-d08e-438b-becb-6098297f36a1"
      },
      "execution_count": 13,
      "outputs": [
        {
          "output_type": "execute_result",
          "data": {
            "text/plain": [
              "[[1], [3], [4, 5]]"
            ]
          },
          "metadata": {},
          "execution_count": 13
        }
      ]
    },
    {
      "cell_type": "code",
      "source": [
        "def find_max(lst):\n",
        "    \"\"\"\n",
        "    Finds the maximum element in a nested list.\n",
        "\n",
        "    Parameters:\n",
        "    lst (list): The nested list.\n",
        "\n",
        "    Returns:\n",
        "    float: The maximum element.\n",
        "    \"\"\"\n",
        "    return max(flatten(lst))\n",
        "\n",
        "find_max([[1, 2], [3, [4, 5]], 6])"
      ],
      "metadata": {
        "colab": {
          "base_uri": "https://localhost:8080/"
        },
        "id": "XQ-eA6Sa31yB",
        "outputId": "1c022458-23ca-4df7-b25e-7d41e7fb99a5"
      },
      "execution_count": 14,
      "outputs": [
        {
          "output_type": "execute_result",
          "data": {
            "text/plain": [
              "6"
            ]
          },
          "metadata": {},
          "execution_count": 14
        }
      ]
    },
    {
      "cell_type": "code",
      "source": [
        "def count_occurrences(lst, elem):\n",
        "    \"\"\"\n",
        "    Counts how many times a specific element appears in a nested list.\n",
        "\n",
        "    Parameters:\n",
        "    lst (list): The nested list.\n",
        "    elem (any): The element to count.\n",
        "\n",
        "    Returns:\n",
        "    int: The number of occurrences.\n",
        "    \"\"\"\n",
        "    return flatten(lst).count(elem)\n",
        "count_occurrences([[1, 2], [2, 3], [2, 4]],2)"
      ],
      "metadata": {
        "colab": {
          "base_uri": "https://localhost:8080/"
        },
        "id": "1iHgRdT033ic",
        "outputId": "eedb7d48-48f6-4ca0-81b8-385da0957ea7"
      },
      "execution_count": 15,
      "outputs": [
        {
          "output_type": "execute_result",
          "data": {
            "text/plain": [
              "3"
            ]
          },
          "metadata": {},
          "execution_count": 15
        }
      ]
    },
    {
      "cell_type": "code",
      "source": [
        "def deep_flatten(lst):\n",
        "    \"\"\"\n",
        "    Flattens a deeply nested list into a single list.\n",
        "\n",
        "    Parameters:\n",
        "    lst (list): The deeply nested list.\n",
        "\n",
        "    Returns:\n",
        "    list: A single flattened list.\n",
        "    \"\"\"\n",
        "    return flatten(lst)\n",
        "\n",
        "deep_flatten([[[1, 2], [3, 4]], [[5, 6], [7, 8]]])"
      ],
      "metadata": {
        "colab": {
          "base_uri": "https://localhost:8080/"
        },
        "id": "KGM7zF3N38Wm",
        "outputId": "0c632ba7-1a57-4416-eef5-92853514768c"
      },
      "execution_count": 16,
      "outputs": [
        {
          "output_type": "execute_result",
          "data": {
            "text/plain": [
              "[1, 2, 3, 4, 5, 6, 7, 8]"
            ]
          },
          "metadata": {},
          "execution_count": 16
        }
      ]
    },
    {
      "cell_type": "code",
      "source": [
        "def average_nested(lst):\n",
        "    \"\"\"\n",
        "    Calculates the average of all elements in a nested list.\n",
        "\n",
        "    Parameters:\n",
        "    lst (list): The nested list.\n",
        "\n",
        "    Returns:\n",
        "    float: The average of all elements.\n",
        "    \"\"\"\n",
        "    flat_list = flatten(lst)\n",
        "    return sum(flat_list) / len(flat_list)\n",
        "average_nested([[1, 2], [3, 4], [5, 6]])"
      ],
      "metadata": {
        "colab": {
          "base_uri": "https://localhost:8080/"
        },
        "id": "r0k0HcDA3_Fd",
        "outputId": "adf213eb-a6ca-46d5-ba0a-c69f920c9def"
      },
      "execution_count": 17,
      "outputs": [
        {
          "output_type": "execute_result",
          "data": {
            "text/plain": [
              "3.5"
            ]
          },
          "metadata": {},
          "execution_count": 17
        }
      ]
    },
    {
      "cell_type": "markdown",
      "source": [
        "# Basic Vector and Matrix Operation with Numpy."
      ],
      "metadata": {
        "id": "HOfXMOKX45Tr"
      }
    },
    {
      "cell_type": "markdown",
      "source": [
        "# Problem - 1: Array Creation:"
      ],
      "metadata": {
        "id": "CggzDmEJ46OB"
      }
    },
    {
      "cell_type": "code",
      "source": [
        "import numpy as np\n",
        "\n",
        "# 1. Initialize an empty array with size 2x2\n",
        "empty_array = np.empty((2, 2))\n",
        "print(\"Empty 2x2 Array:\\n\", empty_array)\n",
        "print(\"---------------\")\n",
        "\n",
        "# 2. Initialize an all ones array with size 4x2\n",
        "ones_array = np.ones((4, 2))\n",
        "print(\"All Ones 4x2 Array:\\n\", ones_array)\n",
        "print(\"---------------\")\n",
        "\n",
        "# 3. Return a new array of given shape and type, filled with fill value\n",
        "fill_value_array = np.full((3, 3), 5)  # Shape: 3x3, Fill Value: 5\n",
        "print(\"Array Filled with Value 5:\\n\", fill_value_array)\n",
        "print(\"---------------\")\n",
        "\n",
        "# 4. Return a new array of zeros with same shape and type as a given array\n",
        "given_array = np.array([[1, 2], [3, 4]])\n",
        "zeros_like_array = np.zeros_like(given_array)\n",
        "print(\"Zeros Array with Same Shape as Given Array:\\n\", zeros_like_array)\n",
        "print(\"---------------\")\n",
        "\n",
        "# 5. Return a new array of ones with same shape and type as a given array\n",
        "ones_like_array = np.ones_like(given_array)\n",
        "print(\"Ones Array with Same Shape as Given Array:\\n\", ones_like_array)\n",
        "print(\"---------------\")\n",
        "\n",
        "# 6. Convert a list to a NumPy array\n",
        "new_list = [1, 2, 3, 4]\n",
        "numpy_array = np.array(new_list)\n",
        "print(\"Converted NumPy Array from List:\\n\", numpy_array)"
      ],
      "metadata": {
        "colab": {
          "base_uri": "https://localhost:8080/"
        },
        "id": "6iLs6Tn549aq",
        "outputId": "7e61a7a0-de8d-4ef6-cc00-49e97b3bef26"
      },
      "execution_count": 18,
      "outputs": [
        {
          "output_type": "stream",
          "name": "stdout",
          "text": [
            "Empty 2x2 Array:\n",
            " [[1.97184514e-316 0.00000000e+000]\n",
            " [6.52007533e-310 1.92323472e-316]]\n",
            "---------------\n",
            "All Ones 4x2 Array:\n",
            " [[1. 1.]\n",
            " [1. 1.]\n",
            " [1. 1.]\n",
            " [1. 1.]]\n",
            "---------------\n",
            "Array Filled with Value 5:\n",
            " [[5 5 5]\n",
            " [5 5 5]\n",
            " [5 5 5]]\n",
            "---------------\n",
            "Zeros Array with Same Shape as Given Array:\n",
            " [[0 0]\n",
            " [0 0]]\n",
            "---------------\n",
            "Ones Array with Same Shape as Given Array:\n",
            " [[1 1]\n",
            " [1 1]]\n",
            "---------------\n",
            "Converted NumPy Array from List:\n",
            " [1 2 3 4]\n"
          ]
        }
      ]
    },
    {
      "cell_type": "markdown",
      "source": [
        "# Problem - 2: Array Manipulation: Numerical Ranges and Array indexing:"
      ],
      "metadata": {
        "id": "Uq2c7Pld5PNs"
      }
    },
    {
      "cell_type": "code",
      "source": [
        "# 1. Create an array with values ranging from 10 to 49\n",
        "range_array = np.arange(10, 50)\n",
        "print(\"Array with Values from 10 to 49:\\n\", range_array)\n",
        "print(\"---------------\")\n",
        "\n",
        "# 2. Create a 3x3 matrix with values ranging from 0 to 8\n",
        "matrix_3x3 = np.arange(9).reshape(3, 3)\n",
        "print(\"3x3 Matrix with Values 0 to 8:\\n\", matrix_3x3)\n",
        "print(\"---------------\")\n",
        "\n",
        "# 3. Create a 3x3 identity matrix\n",
        "identity_matrix = np.eye(3)\n",
        "print(\"3x3 Identity Matrix:\\n\", identity_matrix)\n",
        "print(\"---------------\")\n",
        "\n",
        "# 4. Create a random array of size 30 and find the mean\n",
        "random_array = np.random.random(30)\n",
        "mean_value = random_array.mean()\n",
        "print(\"Random Array of Size 30:\\n\", random_array)\n",
        "print(\"Mean of Random Array:\", mean_value)\n",
        "print(\"---------------\")\n",
        "\n",
        "# 5. Create a 10x10 array with random values and find the min and max\n",
        "random_10x10 = np.random.random((10, 10))\n",
        "min_value = random_10x10.min()\n",
        "max_value = random_10x10.max()\n",
        "print(\"10x10 Random Array:\\n\", random_10x10)\n",
        "print(\"Minimum Value:\", min_value)\n",
        "print(\"Maximum Value:\", max_value)\n",
        "print(\"---------------\")\n",
        "\n",
        "# 6. Create a zero array of size 10 and replace the 5th element with 1\n",
        "zero_array = np.zeros(10)\n",
        "zero_array[4] = 1  # Indexing starts from 0\n",
        "print(\"Zero Array with 5th Element Replaced:\\n\", zero_array)\n",
        "print(\"---------------\")\n",
        "\n",
        "# 7. Reverse an array\n",
        "arr = np.array([1, 2, 0, 0, 4, 0])\n",
        "reversed_arr = arr[::-1]\n",
        "print(\"Reversed Array:\\n\", reversed_arr)\n",
        "print(\"---------------\")\n",
        "\n",
        "# 8. Create a 2D array with 1 on the border and 0 inside\n",
        "border_array = np.ones((5, 5))\n",
        "border_array[1:-1, 1:-1] = 0\n",
        "print(\"2D Array with 1 on Border and 0 Inside:\\n\", border_array)\n",
        "print(\"---------------\")\n",
        "\n",
        "# 9. Create an 8x8 checkerboard pattern\n",
        "checkerboard = np.zeros((8, 8))\n",
        "checkerboard[1::2, ::2] = 1\n",
        "checkerboard[::2, 1::2] = 1\n",
        "print(\"8x8 Checkerboard Pattern:\\n\", checkerboard)"
      ],
      "metadata": {
        "colab": {
          "base_uri": "https://localhost:8080/"
        },
        "id": "7rzn4AIv5QTA",
        "outputId": "0eb37c3b-37cf-47ab-ec95-58e5677a168b"
      },
      "execution_count": 19,
      "outputs": [
        {
          "output_type": "stream",
          "name": "stdout",
          "text": [
            "Array with Values from 10 to 49:\n",
            " [10 11 12 13 14 15 16 17 18 19 20 21 22 23 24 25 26 27 28 29 30 31 32 33\n",
            " 34 35 36 37 38 39 40 41 42 43 44 45 46 47 48 49]\n",
            "---------------\n",
            "3x3 Matrix with Values 0 to 8:\n",
            " [[0 1 2]\n",
            " [3 4 5]\n",
            " [6 7 8]]\n",
            "---------------\n",
            "3x3 Identity Matrix:\n",
            " [[1. 0. 0.]\n",
            " [0. 1. 0.]\n",
            " [0. 0. 1.]]\n",
            "---------------\n",
            "Random Array of Size 30:\n",
            " [0.88176569 0.93724342 0.74047029 0.39700513 0.88883584 0.995783\n",
            " 0.32044219 0.99114978 0.85978914 0.05221374 0.72746809 0.96214459\n",
            " 0.3287261  0.48089603 0.31355149 0.31198739 0.68857394 0.455392\n",
            " 0.43243053 0.48175239 0.20688963 0.52403912 0.78529588 0.0070334\n",
            " 0.88878094 0.23721491 0.4454     0.6256847  0.97476587 0.78679563]\n",
            "Mean of Random Array: 0.5909840284528352\n",
            "---------------\n",
            "10x10 Random Array:\n",
            " [[0.32290044 0.64273169 0.88937309 0.08372277 0.50631609 0.53561314\n",
            "  0.84870263 0.86384882 0.32099465 0.573069  ]\n",
            " [0.39602139 0.06147676 0.48805131 0.68322168 0.64503839 0.61616695\n",
            "  0.97799115 0.81530406 0.98260324 0.88445018]\n",
            " [0.05243037 0.68512185 0.44190451 0.17295006 0.2709365  0.35384001\n",
            "  0.69413972 0.48148815 0.90067764 0.90666534]\n",
            " [0.01436874 0.95161268 0.7560957  0.39635335 0.23119559 0.01004892\n",
            "  0.30364508 0.21260601 0.72494784 0.2812095 ]\n",
            " [0.36781685 0.06245614 0.99147846 0.32782206 0.02547147 0.23424729\n",
            "  0.47079917 0.24849759 0.55219805 0.65648532]\n",
            " [0.77674372 0.01160231 0.57187858 0.45675712 0.51087756 0.78269003\n",
            "  0.83198111 0.21548179 0.32427357 0.70066386]\n",
            " [0.18800793 0.05229349 0.99303094 0.58343102 0.31359776 0.7798516\n",
            "  0.85406891 0.15860993 0.7445193  0.44787401]\n",
            " [0.14095631 0.57128172 0.48438471 0.66236521 0.43522002 0.8192092\n",
            "  0.37345209 0.00935023 0.21835874 0.27059168]\n",
            " [0.14684048 0.96228396 0.44158606 0.27488834 0.25227832 0.6148688\n",
            "  0.54803715 0.93980893 0.81612641 0.5751092 ]\n",
            " [0.78245354 0.9202015  0.62699044 0.14061702 0.96813904 0.26545175\n",
            "  0.80396629 0.60506714 0.73317494 0.39910906]]\n",
            "Minimum Value: 0.009350231570230183\n",
            "Maximum Value: 0.993030939658996\n",
            "---------------\n",
            "Zero Array with 5th Element Replaced:\n",
            " [0. 0. 0. 0. 1. 0. 0. 0. 0. 0.]\n",
            "---------------\n",
            "Reversed Array:\n",
            " [0 4 0 0 2 1]\n",
            "---------------\n",
            "2D Array with 1 on Border and 0 Inside:\n",
            " [[1. 1. 1. 1. 1.]\n",
            " [1. 0. 0. 0. 1.]\n",
            " [1. 0. 0. 0. 1.]\n",
            " [1. 0. 0. 0. 1.]\n",
            " [1. 1. 1. 1. 1.]]\n",
            "---------------\n",
            "8x8 Checkerboard Pattern:\n",
            " [[0. 1. 0. 1. 0. 1. 0. 1.]\n",
            " [1. 0. 1. 0. 1. 0. 1. 0.]\n",
            " [0. 1. 0. 1. 0. 1. 0. 1.]\n",
            " [1. 0. 1. 0. 1. 0. 1. 0.]\n",
            " [0. 1. 0. 1. 0. 1. 0. 1.]\n",
            " [1. 0. 1. 0. 1. 0. 1. 0.]\n",
            " [0. 1. 0. 1. 0. 1. 0. 1.]\n",
            " [1. 0. 1. 0. 1. 0. 1. 0.]]\n"
          ]
        }
      ]
    },
    {
      "cell_type": "markdown",
      "source": [
        "# Problem - 3: Array Operations:"
      ],
      "metadata": {
        "id": "-9y8Z94E5f0R"
      }
    },
    {
      "cell_type": "code",
      "source": [
        "# Given arrays\n",
        "x = np.array([[1, 2], [3, 5]])\n",
        "y = np.array([[5, 6], [7, 8]])\n",
        "v = np.array([9, 10])\n",
        "w = np.array([11, 12])\n",
        "\n",
        "# 1. Add the two arrays\n",
        "add_result = x + y\n",
        "print(\"Addition of x and y:\\n\", add_result)\n",
        "print(\"---------------\")\n",
        "\n",
        "# 2. Subtract the two arrays\n",
        "subtract_result = x - y\n",
        "print(\"Subtraction of x and y:\\n\", subtract_result)\n",
        "print(\"---------------\")\n",
        "\n",
        "# 3. Multiply the array with an integer\n",
        "multiply_result = x * 2\n",
        "print(\"Multiplication of x by 2:\\n\", multiply_result)\n",
        "print(\"---------------\")\n",
        "\n",
        "# 4. Find the square of each element\n",
        "square_result = np.square(x)\n",
        "print(\"Square of Each Element in x:\\n\", square_result)\n",
        "print(\"---------------\")\n",
        "\n",
        "# 5. Find the dot product\n",
        "dot_vw = np.dot(v, w)\n",
        "dot_xv = np.dot(x, v)\n",
        "dot_xy = np.dot(x, y)\n",
        "print(\"Dot Product of v and w:\", dot_vw)\n",
        "print(\"Dot Product of x and v:\", dot_xv)\n",
        "print(\"Dot Product of x and y:\\n\", dot_xy)\n",
        "print(\"---------------\")\n",
        "\n",
        "# 6. Concatenate x and y along rows, and v and w along columns\n",
        "concatenate_rows = np.concatenate((x, y), axis=0)\n",
        "concatenate_columns = np.vstack((v, w))\n",
        "print(\"Concatenate x and y along rows:\\n\", concatenate_rows)\n",
        "print(\"Concatenate v and w along columns:\\n\", concatenate_columns)\n",
        "print(\"---------------\")\n",
        "\n",
        "# 7. Concatenate x and v (will raise an error)\n",
        "try:\n",
        "    concatenate_xv = np.concatenate((x, v))\n",
        "except ValueError as e:\n",
        "    print(\"Error:\", e)\n",
        "    print(\"Explanation: Shapes of x (2x2) and v (2,) are not compatible for concatenation.\")"
      ],
      "metadata": {
        "colab": {
          "base_uri": "https://localhost:8080/"
        },
        "id": "7Kk1Pa0X5ghe",
        "outputId": "b97b7c0c-b9ab-44f6-a73a-78920245ff73"
      },
      "execution_count": 20,
      "outputs": [
        {
          "output_type": "stream",
          "name": "stdout",
          "text": [
            "Addition of x and y:\n",
            " [[ 6  8]\n",
            " [10 13]]\n",
            "---------------\n",
            "Subtraction of x and y:\n",
            " [[-4 -4]\n",
            " [-4 -3]]\n",
            "---------------\n",
            "Multiplication of x by 2:\n",
            " [[ 2  4]\n",
            " [ 6 10]]\n",
            "---------------\n",
            "Square of Each Element in x:\n",
            " [[ 1  4]\n",
            " [ 9 25]]\n",
            "---------------\n",
            "Dot Product of v and w: 219\n",
            "Dot Product of x and v: [29 77]\n",
            "Dot Product of x and y:\n",
            " [[19 22]\n",
            " [50 58]]\n",
            "---------------\n",
            "Concatenate x and y along rows:\n",
            " [[1 2]\n",
            " [3 5]\n",
            " [5 6]\n",
            " [7 8]]\n",
            "Concatenate v and w along columns:\n",
            " [[ 9 10]\n",
            " [11 12]]\n",
            "---------------\n",
            "Error: all the input arrays must have same number of dimensions, but the array at index 0 has 2 dimension(s) and the array at index 1 has 1 dimension(s)\n",
            "Explanation: Shapes of x (2x2) and v (2,) are not compatible for concatenation.\n"
          ]
        }
      ]
    },
    {
      "cell_type": "markdown",
      "source": [
        "# Problem - 4: Matrix Operations:"
      ],
      "metadata": {
        "id": "a7WGIiQE5td6"
      }
    },
    {
      "cell_type": "code",
      "source": [
        "# Given arrays\n",
        "A = np.array([[3, 4], [7, 8]])\n",
        "B = np.array([[5, 3], [2, 1]])\n",
        "\n",
        "# 1. Prove A.A^-1 = I\n",
        "A_inv = np.linalg.inv(A)\n",
        "identity_check = np.dot(A, A_inv)\n",
        "print(\"A.A^-1:\\n\", identity_check)\n",
        "print(\"---------------\")\n",
        "\n",
        "# 2. Prove AB != BA\n",
        "AB = np.dot(A, B)\n",
        "BA = np.dot(B, A)\n",
        "print(\"AB:\\n\", AB)\n",
        "print(\"BA:\\n\", BA)\n",
        "print(\"Is AB != BA?\", not np.array_equal(AB, BA))\n",
        "print(\"---------------\")\n",
        "\n",
        "# 3. Prove (AB)^T = B^T A^T\n",
        "AB_transpose = AB.T\n",
        "B_transpose_A_transpose = np.dot(B.T, A.T)\n",
        "print(\"(AB)^T:\\n\", AB_transpose)\n",
        "print(\"B^T A^T:\\n\", B_transpose_A_transpose)\n",
        "print(\"Is (AB)^T == B^T A^T?\", np.array_equal(AB_transpose, B_transpose_A_transpose))\n",
        "print(\"---------------\")\n",
        "\n",
        "# Solve the system of linear equations\n",
        "# 2x - 3y + z = -1\n",
        "# x - y + 2z = -3\n",
        "# 3x + y - z = 9\n",
        "\n",
        "# Matrix form: AX = B\n",
        "A_eq = np.array([[2, -3, 1], [1, -1, 2], [3, 1, -1]])\n",
        "B_eq = np.array([-1, -3, 9])\n",
        "print(\"---------------\")\n",
        "\n",
        "# Solve using inverse method\n",
        "X = np.dot(np.linalg.inv(A_eq), B_eq)\n",
        "print(\"Solution using Inverse Method:\", X)\n",
        "print(\"---------------\")\n",
        "\n",
        "# Solve using np.linalg.solve\n",
        "X_solve = np.linalg.solve(A_eq, B_eq)\n",
        "print(\"Solution using np.linalg.solve:\", X_solve)"
      ],
      "metadata": {
        "colab": {
          "base_uri": "https://localhost:8080/"
        },
        "id": "T1smTCWZ5tPy",
        "outputId": "24838f00-aa75-46ea-99a0-ea26b8e3bd75"
      },
      "execution_count": 21,
      "outputs": [
        {
          "output_type": "stream",
          "name": "stdout",
          "text": [
            "A.A^-1:\n",
            " [[1.00000000e+00 0.00000000e+00]\n",
            " [1.77635684e-15 1.00000000e+00]]\n",
            "---------------\n",
            "AB:\n",
            " [[23 13]\n",
            " [51 29]]\n",
            "BA:\n",
            " [[36 44]\n",
            " [13 16]]\n",
            "Is AB != BA? True\n",
            "---------------\n",
            "(AB)^T:\n",
            " [[23 51]\n",
            " [13 29]]\n",
            "B^T A^T:\n",
            " [[23 51]\n",
            " [13 29]]\n",
            "Is (AB)^T == B^T A^T? True\n",
            "---------------\n",
            "---------------\n",
            "Solution using Inverse Method: [ 2.  1. -2.]\n",
            "---------------\n",
            "Solution using np.linalg.solve: [ 2.  1. -2.]\n"
          ]
        }
      ]
    },
    {
      "cell_type": "markdown",
      "source": [
        "# Experiment: How Fast is Numpy?"
      ],
      "metadata": {
        "id": "3H_v52uH59RJ"
      }
    },
    {
      "cell_type": "code",
      "source": [
        "import time\n",
        "import numpy as np\n",
        "\n",
        "# Function to measure time taken for an operation\n",
        "def measure_time(func, *args):\n",
        "    start_time = time.time()\n",
        "    func(*args)\n",
        "    end_time = time.time()\n",
        "    return end_time - start_time\n",
        "\n",
        "# 1. Element-wise Addition\n",
        "def elementwise_addition_python(list1, list2):\n",
        "    return [a + b for a, b in zip(list1, list2)]\n",
        "\n",
        "def elementwise_addition_numpy(array1, array2):\n",
        "    return array1 + array2\n",
        "\n",
        "# 2. Element-wise Multiplication\n",
        "def elementwise_multiplication_python(list1, list2):\n",
        "    return [a * b for a, b in zip(list1, list2)]\n",
        "\n",
        "def elementwise_multiplication_numpy(array1, array2):\n",
        "    return array1 * array2\n",
        "\n",
        "# 3. Dot Product\n",
        "def dot_product_python(list1, list2):\n",
        "    return sum(a * b for a, b in zip(list1, list2))\n",
        "\n",
        "def dot_product_numpy(array1, array2):\n",
        "    return np.dot(array1, array2)\n",
        "\n",
        "# 4. Matrix Multiplication\n",
        "def matrix_multiplication_python(matrix1, matrix2):\n",
        "    result = [[sum(a * b for a, b in zip(row, col)) for col in zip(*matrix2)] for row in matrix1]\n",
        "    return result\n",
        "\n",
        "def matrix_multiplication_numpy(matrix1, matrix2):\n",
        "    return np.dot(matrix1, matrix2)\n",
        "\n",
        "# Initialize data\n",
        "size = 1000000\n",
        "list1 = list(range(size))\n",
        "list2 = list(range(size, 2 * size))\n",
        "array1 = np.arange(size)\n",
        "array2 = np.arange(size, 2 * size)\n",
        "\n",
        "matrix_size = 1000\n",
        "matrix1 = [[i + j for j in range(matrix_size)] for i in range(matrix_size)]\n",
        "matrix2 = [[i - j for j in range(matrix_size)] for i in range(matrix_size)]\n",
        "np_matrix1 = np.array(matrix1)\n",
        "np_matrix2 = np.array(matrix2)\n",
        "\n",
        "# Measure time for each operation\n",
        "print(\"1. Element-wise Addition:\")\n",
        "time_python_add = measure_time(elementwise_addition_python, list1, list2)\n",
        "time_numpy_add = measure_time(elementwise_addition_numpy, array1, array2)\n",
        "print(f\"Python Lists: {time_python_add:.6f} seconds\")\n",
        "print(f\"NumPy Arrays: {time_numpy_add:.6f} seconds\")\n",
        "\n",
        "print(\"\\n2. Element-wise Multiplication:\")\n",
        "time_python_mul = measure_time(elementwise_multiplication_python, list1, list2)\n",
        "time_numpy_mul = measure_time(elementwise_multiplication_numpy, array1, array2)\n",
        "print(f\"Python Lists: {time_python_mul:.6f} seconds\")\n",
        "print(f\"NumPy Arrays: {time_numpy_mul:.6f} seconds\")\n",
        "\n",
        "print(\"\\n3. Dot Product:\")\n",
        "time_python_dot = measure_time(dot_product_python, list1, list2)\n",
        "time_numpy_dot = measure_time(dot_product_numpy, array1, array2)\n",
        "print(f\"Python Lists: {time_python_dot:.6f} seconds\")\n",
        "print(f\"NumPy Arrays: {time_numpy_dot:.6f} seconds\")\n",
        "\n",
        "print(\"\\n4. Matrix Multiplication:\")\n",
        "time_python_matmul = measure_time(matrix_multiplication_python, matrix1, matrix2)\n",
        "time_numpy_matmul = measure_time(matrix_multiplication_numpy, np_matrix1, np_matrix2)\n",
        "print(f\"Python Lists: {time_python_matmul:.6f} seconds\")\n",
        "print(f\"NumPy Arrays: {time_numpy_matmul:.6f} seconds\")"
      ],
      "metadata": {
        "colab": {
          "base_uri": "https://localhost:8080/"
        },
        "id": "vQXBJN236Jm5",
        "outputId": "04e0b07c-208f-411e-d549-a97c680c55a4"
      },
      "execution_count": 22,
      "outputs": [
        {
          "output_type": "stream",
          "name": "stdout",
          "text": [
            "1. Element-wise Addition:\n",
            "Python Lists: 0.075742 seconds\n",
            "NumPy Arrays: 0.003431 seconds\n",
            "\n",
            "2. Element-wise Multiplication:\n",
            "Python Lists: 0.073213 seconds\n",
            "NumPy Arrays: 0.001988 seconds\n",
            "\n",
            "3. Dot Product:\n",
            "Python Lists: 0.106396 seconds\n",
            "NumPy Arrays: 0.001510 seconds\n",
            "\n",
            "4. Matrix Multiplication:\n",
            "Python Lists: 160.430937 seconds\n",
            "NumPy Arrays: 1.246576 seconds\n"
          ]
        }
      ]
    }
  ]
}